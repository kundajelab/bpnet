{
 "cells": [
  {
   "cell_type": "markdown",
   "metadata": {},
   "source": [
    "### Link to results\n",
    "[Within-motif heterogeneity](#motif-subclusters)\n",
    "\n",
    "[Clustering of peaks](#peaks)"
   ]
  },
  {
   "cell_type": "code",
   "execution_count": null,
   "metadata": {},
   "outputs": [],
   "source": [
    "import os\n",
    "import h5py\n",
    "import util\n",
    "import moods\n",
    "import viz_sequence\n",
    "import numpy as np\n",
    "import pandas as pd\n",
    "import modisco\n",
    "import sklearn.decomposition\n",
    "import umap\n",
    "import matplotlib.pyplot as plt\n",
    "import matplotlib.font_manager as font_manager\n",
    "import vdom.helpers as vdomh\n",
    "from IPython.display import display\n",
    "import tqdm\n",
    "tqdm.tqdm_notebook()"
   ]
  },
  {
   "cell_type": "code",
   "execution_count": null,
   "metadata": {},
   "outputs": [],
   "source": [
    "# Plotting defaults\n",
    "plot_params = {\n",
    "    \"figure.titlesize\": 22,\n",
    "    \"axes.titlesize\": 22,\n",
    "    \"axes.labelsize\": 20,\n",
    "    \"legend.fontsize\": 18,\n",
    "    \"xtick.labelsize\": 16,\n",
    "    \"ytick.labelsize\": 16,\n",
    "    \"font.weight\": \"bold\"\n",
    "}\n",
    "plt.rcParams.update(plot_params)"
   ]
  },
  {
   "cell_type": "markdown",
   "metadata": {},
   "source": [
    "### Define constants and paths"
   ]
  },
  {
   "cell_type": "code",
   "execution_count": null,
   "metadata": {},
   "outputs": [],
   "source": [
    "# Define parameters/fetch arguments\n",
    "tfm_results_path = os.environ[\"TFM_TFM_PATH\"]\n",
    "shap_scores_path = os.environ[\"TFM_SHAP_PATH\"]\n",
    "embeddings_path = os.environ[\"TFM_EMB_PATH\"]\n",
    "moods_dir = os.environ[\"TFM_MOODS_DIR\"]\n",
    "if \"TFM_CLUSTER_CACHE\" in os.environ:\n",
    "    cluster_cache_dir = os.environ[\"TFM_CLUSTER_CACHE\"]\n",
    "else:\n",
    "    cluster_cache_dir = None\n",
    "\n",
    "print(\"TF-MoDISco results path: %s\" % tfm_results_path)\n",
    "print(\"DeepSHAP scores path: %s\" % shap_scores_path)\n",
    "print(\"Embeddings path: %s\" % embeddings_path)\n",
    "print(\"MOODS directory: %s\" % moods_dir)\n",
    "print(\"Saved clusters cache: %s\" % cluster_cache_dir)"
   ]
  },
  {
   "cell_type": "code",
   "execution_count": null,
   "metadata": {},
   "outputs": [],
   "source": [
    "# Define constants\n",
    "shap_score_center_size = 400\n",
    "hyp_score_key = \"hyp_scores\"\n",
    "task_index = None"
   ]
  },
  {
   "cell_type": "markdown",
   "metadata": {},
   "source": [
    "### Helper functions\n",
    "For plotting and organizing things"
   ]
  },
  {
   "cell_type": "code",
   "execution_count": null,
   "metadata": {},
   "outputs": [],
   "source": [
    "def check_tfmodisco_motif_subcluster(tfm_results):\n",
    "    \"\"\"\n",
    "    From an imported TF-MoDISco results object, returns whether or not\n",
    "    the results contain the subclustering of each motif/pattern.\n",
    "    \"\"\"\n",
    "    metaclusters = tfm_results.metacluster_idx_to_submetacluster_results\n",
    "    # Take an arbitrary metacluster\n",
    "    metacluster = next(iter(metaclusters.values()))\n",
    "    \n",
    "    patterns = metacluster.seqlets_to_patterns_result.patterns\n",
    "    # Take an arbitrary pattern\n",
    "    pattern = patterns[0]\n",
    "    return pattern.subclusters is not None"
   ]
  },
  {
   "cell_type": "code",
   "execution_count": null,
   "metadata": {},
   "outputs": [],
   "source": [
    "def compute_tfmodisco_motif_subclusters(tfm_results):\n",
    "    \"\"\"\n",
    "    From an imported TF-MoDISco results object, computes the subclustering\n",
    "    of heterogeneity within each motif/pattern.\n",
    "    \"\"\"\n",
    "    metaclusters = tfm_results.metacluster_idx_to_submetacluster_results\n",
    "    num_metaclusters = len(metaclusters.keys())\n",
    "    for metacluster_i, metacluster_key in enumerate(metaclusters.keys()):\n",
    "        metacluster = metaclusters[metacluster_key]\n",
    "        patterns = metacluster.seqlets_to_patterns_result.patterns\n",
    "        if not patterns:\n",
    "            break\n",
    "        num_patterns = len(patterns)\n",
    "        for pattern_i, pattern in enumerate(patterns):\n",
    "            # Compute subclustering for each pattern (motif)\n",
    "            pattern.compute_subclusters_and_embedding(\n",
    "                pattern_comparison_settings=modisco.affinitymat.core.PatternComparisonSettings(\n",
    "                    track_names=[\"task0_hypothetical_contribs\", \"task0_contrib_scores\"],\n",
    "                    track_transformer=modisco.affinitymat.L1Normalizer(),\n",
    "                    min_overlap=None  # This argument is irrelevant here\n",
    "                ),\n",
    "                perplexity=30, n_jobs=4, verbose=True\n",
    "            )"
   ]
  },
  {
   "cell_type": "code",
   "execution_count": null,
   "metadata": {},
   "outputs": [],
   "source": [
    "def plot_motif_heterogeneity(tfm_results, save_dir=None):\n",
    "    \"\"\"\n",
    "    Plots subclusters of motifs. If `save_dir` is provided, saves the\n",
    "    results and figures there.\n",
    "    \"\"\"\n",
    "    colgroup = vdomh.colgroup(\n",
    "        vdomh.col(style={\"width\": \"5%\"}),\n",
    "        vdomh.col(style={\"width\": \"5%\"}),\n",
    "        vdomh.col(style={\"width\": \"50%\"}),\n",
    "        vdomh.col(style={\"width\": \"40%\"})\n",
    "    )\n",
    "    header = vdomh.thead(\n",
    "        vdomh.tr(\n",
    "            vdomh.th(\"Subpattern\", style={\"text-align\": \"center\"}),\n",
    "            vdomh.th(\"Seqlets\", style={\"text-align\": \"center\"}),\n",
    "            vdomh.th(\"Embeddings\", style={\"text-align\": \"center\"}),\n",
    "            vdomh.th(\"hCWM\", style={\"text-align\": \"center\"})\n",
    "        )\n",
    "    )\n",
    "    \n",
    "    if save_dir:\n",
    "        motif_hdf5 = h5py.File(os.path.join(save_dir, \"all_motif_subclusters.h5\"), \"w\")\n",
    "        \n",
    "    metaclusters = tfm_results.metacluster_idx_to_submetacluster_results\n",
    "    num_metaclusters = len(metaclusters.keys())\n",
    "    for metacluster_i, metacluster_key in enumerate(metaclusters.keys()):\n",
    "        metacluster = metaclusters[metacluster_key]\n",
    "        display(vdomh.h3(\"Metacluster %d/%d\" % (metacluster_i + 1, num_metaclusters)))\n",
    "        patterns = metacluster.seqlets_to_patterns_result.patterns\n",
    "        if not patterns:\n",
    "            break\n",
    "        num_patterns = len(patterns)\n",
    "        for pattern_i, pattern in enumerate(patterns):\n",
    "            display(vdomh.h4(\"Pattern %d/%d\" % (pattern_i + 1, num_patterns)))\n",
    "\n",
    "            embedding = pattern.twod_embedding\n",
    "            subpattern_clusters = pattern.subclusters\n",
    "\n",
    "            # Aggregate motif\n",
    "            pfm = pattern[\"sequence\"].fwd\n",
    "            hcwm = pattern[\"task0_hypothetical_contribs\"].fwd\n",
    "            trimmed_hcwm = util.trim_motif(pfm, hcwm, pad=4)\n",
    "            hcwm_fig = viz_sequence.plot_weights(\n",
    "                trimmed_hcwm, subticks_frequency=(len(trimmed_hcwm) + 1), return_fig=True\n",
    "            )\n",
    "            emb_fig, ax = plt.subplots()\n",
    "            ax.scatter(\n",
    "                embedding[:,0], embedding[:,1], c=subpattern_clusters, cmap=\"tab20\", alpha=0.3\n",
    "            )\n",
    "\n",
    "            table_rows = [vdomh.tr(\n",
    "                vdomh.td(\"Agg.\"),\n",
    "                vdomh.td(str(len(pattern.seqlets))),\n",
    "                vdomh.td(util.figure_to_vdom_image(emb_fig)),\n",
    "                vdomh.td(util.figure_to_vdom_image(hcwm_fig))\n",
    "            )]\n",
    "            \n",
    "            if save_dir:\n",
    "                # Save aggregate embedding plot\n",
    "                motif_id = \"%d_%d\" % (metacluster_i, pattern_i)\n",
    "                emb_fig.savefig(os.path.join(save_dir, motif_id + \"_subcluster_agg.png\"))\n",
    "                \n",
    "                # Create dictionaries for subclusters\n",
    "                sc_emb_figs, sc_hcwm_figs, sc_motifs = {}, {}, {}\n",
    "\n",
    "            for subpattern_key, subpattern in pattern.subcluster_to_subpattern.items():\n",
    "                pfm = subpattern[\"sequence\"].fwd\n",
    "                cwm = subpattern[\"task0_contrib_scores\"].fwd\n",
    "                hcwm = subpattern[\"task0_hypothetical_contribs\"].fwd\n",
    "                trimmed_hcwm = util.trim_motif(pfm, hcwm, pad=4)\n",
    "                hcwm_fig = viz_sequence.plot_weights(\n",
    "                    trimmed_hcwm, subticks_frequency=(len(trimmed_hcwm) + 1), return_fig=True\n",
    "                )\n",
    "                emb_fig, ax = plt.subplots()\n",
    "                ax.scatter(\n",
    "                    embedding[:,0], embedding[:,1], c=(subpattern_clusters == subpattern_key), alpha=0.3\n",
    "                )\n",
    "\n",
    "                table_rows.append(vdomh.tr(\n",
    "                    vdomh.td(str(subpattern_key)),\n",
    "                    vdomh.td(str(len(subpattern.seqlets))),\n",
    "                    vdomh.td(util.figure_to_vdom_image(emb_fig)),\n",
    "                    vdomh.td(util.figure_to_vdom_image(hcwm_fig))\n",
    "                ))\n",
    "                \n",
    "                if save_dir:\n",
    "                    sc_emb_figs[subpattern_key] = emb_fig\n",
    "                    sc_hcwm_figs[subpattern_key] = hcwm_fig\n",
    "                    sc_motifs[subpattern_key] = (pfm, cwm, hcwm, trimmed_hcwm)\n",
    "                \n",
    "            if save_dir:\n",
    "                # Save embedding plots, hCWM figure, and motifs\n",
    "                for sc_key, emb_fig in sc_emb_figs.items():\n",
    "                    emb_fig.savefig(os.path.join(save_dir, motif_id + (\"_subcluster_%s.png\" % sc_key)))\n",
    "                for sc_key, hcwm_fig in sc_hcwm_figs.items():\n",
    "                    hcwm_fig.savefig(os.path.join(save_dir, motif_id + (\"_subcluster_%s_hcwm_trimmed.png\" % sc_key)))\n",
    "\n",
    "                motif_dset = motif_hdf5.create_group(motif_id)\n",
    "                for sc_key, (pfm, cwm, hcwm, trimmed_hcwm) in sc_motifs.items():\n",
    "                    sc_dset = motif_dset.create_group(\"subcluster_%s\" % sc_key)\n",
    "                    sc_dset.create_dataset(\"pfm_full\", data=pfm, compression=\"gzip\")\n",
    "                    sc_dset.create_dataset(\"hcwm_full\", data=hcwm, compression=\"gzip\")\n",
    "                    sc_dset.create_dataset(\"cwm_full\", data=cwm, compression=\"gzip\")\n",
    "                    sc_dset.create_dataset(\"hcwm_trimmed\", data=trimmed_hcwm, compression=\"gzip\")\n",
    "\n",
    "            table = vdomh.table(header, vdomh.tbody(*table_rows))\n",
    "            display(table)\n",
    "            plt.close(\"all\")  # Remove all standing figures"
   ]
  },
  {
   "cell_type": "code",
   "execution_count": null,
   "metadata": {},
   "outputs": [],
   "source": [
    "def import_tfmodisco_motifs(tfm_results_path, trim=True, only_pos=True):\n",
    "    \"\"\"\n",
    "    Imports hCWMs to into a dictionary, mapping `(x, y)` to the hCWM,\n",
    "    where `x` is the metacluster index and `y` is the pattern index.\n",
    "    Arguments:\n",
    "        `tfm_results_path`: path to HDF5 containing TF-MoDISco results\n",
    "        `out_dir`: where to save motifs\n",
    "        `trim`: if True, trim the motif flanks based on total importance\n",
    "        `only_pos`: if True, only return motifs with positive contributions\n",
    "    Returns the dictionary of hCWM.\n",
    "    \"\"\" \n",
    "    hcwms = {}\n",
    "    with h5py.File(tfm_results_path, \"r\") as f:\n",
    "        metaclusters = f[\"metacluster_idx_to_submetacluster_results\"]\n",
    "        num_metaclusters = len(metaclusters.keys())\n",
    "        for metacluster_i, metacluster_key in enumerate(metaclusters.keys()):\n",
    "            metacluster = metaclusters[metacluster_key]\n",
    "            if \"patterns\" not in metacluster[\"seqlets_to_patterns_result\"]:\n",
    "                continue\n",
    "            patterns = metacluster[\"seqlets_to_patterns_result\"][\"patterns\"]\n",
    "            num_patterns = len(patterns[\"all_pattern_names\"][:])\n",
    "            for pattern_i, pattern_name in enumerate(patterns[\"all_pattern_names\"][:]):\n",
    "                pattern_name = pattern_name.decode()\n",
    "                pattern = patterns[pattern_name]\n",
    "                pfm = pattern[\"sequence\"][\"fwd\"][:]\n",
    "                hcwm = pattern[\"task0_hypothetical_contribs\"][\"fwd\"][:]\n",
    "                cwm = pattern[\"task0_contrib_scores\"][\"fwd\"][:]\n",
    "                \n",
    "                # Check that the contribution scores are overall positive\n",
    "                if only_pos and np.sum(cwm) < 0:\n",
    "                    continue\n",
    "                    \n",
    "                if trim:\n",
    "                    hcwm = util.trim_motif(pfm, hcwm, pad=4)\n",
    "                    \n",
    "                hcwms[\"%d_%d\" % (metacluster_i,pattern_i)] = hcwm\n",
    "    return hcwms"
   ]
  },
  {
   "cell_type": "code",
   "execution_count": null,
   "metadata": {},
   "outputs": [],
   "source": [
    "def get_hit_peak_indices(hit_table, motif_keys):\n",
    "    \"\"\"\n",
    "    Returns a dictionary of NumPy arrays, mapping each motif key to\n",
    "    the set of peak indices that contain that motif.\n",
    "    \"\"\"\n",
    "    hit_peak_indices = {}\n",
    "    for motif_key in motif_keys:\n",
    "        hit_peak_indices[motif_key] = hit_table[hit_table[\"key\"] == motif_key][\"peak_index\"].values\n",
    "    return hit_peak_indices"
   ]
  },
  {
   "cell_type": "code",
   "execution_count": null,
   "metadata": {},
   "outputs": [],
   "source": [
    "def umap_transform(matrix):\n",
    "    \"\"\"\n",
    "    Converts N x D matrix into transformed N x 2 matrix using\n",
    "    UMAP. First projects down to 50 components using PCA.\n",
    "    \"\"\"\n",
    "    # First reduce using PCA\n",
    "    centered = matrix - np.mean(matrix, axis=0, keepdims=True)\n",
    "    pca = sklearn.decomposition.PCA(n_components=50)\n",
    "    reduced = pca.fit_transform(centered)\n",
    "\n",
    "    # Run UMAP\n",
    "    um = umap.UMAP(verbose=False)\n",
    "    return um.fit_transform(centered)"
   ]
  },
  {
   "cell_type": "code",
   "execution_count": null,
   "metadata": {},
   "outputs": [],
   "source": [
    "def plot_peak_clustering(embeddings_path, motif_keys, hcwms, hit_emb_indices, save_dir=None):\n",
    "    \"\"\"\n",
    "    Plots clustering of peaks based on motif hits. If `save_dir` is provided,\n",
    "    saves the results and figures there.\n",
    "    \"\"\"\n",
    "    colgroup = vdomh.colgroup(\n",
    "        vdomh.col(style={\"width\": \"5%\"}),\n",
    "        vdomh.col(style={\"width\": \"55\"}),\n",
    "        vdomh.col(style={\"width\": \"40%\"})\n",
    "    )\n",
    "    header = vdomh.thead(\n",
    "        vdomh.tr(\n",
    "            vdomh.th(\"Motif key\", style={\"text-align\": \"center\"}),\n",
    "            vdomh.th(\"Embeddings\", style={\"text-align\": \"center\"}),\n",
    "            vdomh.th(\"hCWM\", style={\"text-align\": \"center\"})\n",
    "        )\n",
    "    )\n",
    "    \n",
    "    if save_dir:\n",
    "        emb_hdf5 = h5py.File(os.path.join(save_dir, \"transformed_embeddings.h5\"), \"w\")\n",
    "    \n",
    "    embeddings_reader = h5py.File(embeddings_path, \"r\")\n",
    "    num_layers = embeddings_reader[\"embeddings\"][\"mean\"].shape[1]\n",
    "    \n",
    "    def plot_embeddings(embeddings, layer_id):\n",
    "        umap_trans = umap_transform(embeddings)\n",
    "        \n",
    "        if save_dir:\n",
    "            emb_hdf5.create_dataset(\n",
    "                \"layer_%s\" % layer_id, data=umap_trans, compression=\"gzip\"\n",
    "            )\n",
    "        \n",
    "        table_rows = []\n",
    "        for motif_key in motif_keys:\n",
    "            hcwm = hcwms[motif_key]\n",
    "            hcwm_fig = viz_sequence.plot_weights(\n",
    "                hcwm, subticks_frequency=(len(hcwm) + 1), return_fig=True\n",
    "            )\n",
    "            emb_fig, ax = plt.subplots()\n",
    "            subset = np.zeros(len(embeddings), dtype=int)\n",
    "            subset[hit_emb_indices[motif_key]] = 1\n",
    "            ax.scatter(\n",
    "                umap_trans[:,0], umap_trans[:,1], c=subset, alpha=0.1\n",
    "            )\n",
    "\n",
    "            table_rows.append(vdomh.tr(\n",
    "                vdomh.td(motif_key),\n",
    "                vdomh.td(util.figure_to_vdom_image(emb_fig)),\n",
    "                vdomh.td(util.figure_to_vdom_image(hcwm_fig))\n",
    "            ))\n",
    "            \n",
    "            if save_dir:\n",
    "                emb_fig.savefig(\n",
    "                    os.path.join(save_dir, \"layer_%s_motif_%s_peak_embeddings.png\" % (layer_id, motif_key))\n",
    "                )\n",
    "\n",
    "        table = vdomh.table(header, vdomh.tbody(*table_rows))\n",
    "        display(table)\n",
    "        plt.close(\"all\")  # Remove all standing figures\n",
    "    \n",
    "    for i in range(num_layers):\n",
    "        display(vdomh.h3(\"Layer %d/%d\" % (i + 1, num_layers)))\n",
    "        \n",
    "        embeddings = np.concatenate([\n",
    "            embeddings_reader[\"embeddings\"][\"mean\"][:, i],\n",
    "            embeddings_reader[\"embeddings\"][\"std\"][:, i],\n",
    "            embeddings_reader[\"embeddings\"][\"max\"][:, i],\n",
    "            embeddings_reader[\"embeddings\"][\"min\"][:, i]\n",
    "        ], axis=1)  # Shape: N x (F * 4)\n",
    "        \n",
    "        plot_embeddings(embeddings, i)\n",
    "        \n",
    "    # Concatenate of all layers\n",
    "    embeddings = np.concatenate([\n",
    "        embeddings_reader[\"embeddings\"][\"mean\"][:],\n",
    "        embeddings_reader[\"embeddings\"][\"std\"][:],\n",
    "        embeddings_reader[\"embeddings\"][\"max\"][:],\n",
    "        embeddings_reader[\"embeddings\"][\"min\"][:]\n",
    "    ], axis=2)  # Shape: N x C x (F * 4)\n",
    "    embeddings = np.reshape(embeddings, (embeddings.shape[0], -1))\n",
    "    display(vdomh.h3(\"All layers\"))\n",
    "    plot_embeddings(embeddings, \"all\")\n",
    "    \n",
    "    embeddings_reader.close()"
   ]
  },
  {
   "cell_type": "markdown",
   "metadata": {},
   "source": [
    "### Import TF-MoDISco results\n",
    "Run motif subclustering"
   ]
  },
  {
   "cell_type": "code",
   "execution_count": null,
   "metadata": {},
   "outputs": [],
   "source": [
    "# Import SHAP coordinates and one-hot sequences\n",
    "hyp_scores, _, one_hot_seqs, shap_coords = util.import_shap_scores(shap_scores_path, hyp_score_key, center_cut_size=shap_score_center_size, remove_non_acgt=False)\n",
    "# This cuts the sequences/scores off just as how TF-MoDISco saw them, but the coordinates are uncut"
   ]
  },
  {
   "cell_type": "code",
   "execution_count": null,
   "metadata": {},
   "outputs": [],
   "source": [
    "# Import the TF-MoDISco results object\n",
    "tfm_obj = util.import_tfmodisco_results(tfm_results_path, hyp_scores, one_hot_seqs, shap_score_center_size)"
   ]
  },
  {
   "cell_type": "code",
   "execution_count": null,
   "metadata": {},
   "outputs": [],
   "source": [
    "# Compute subclusters (needed for older versions of TF-MoDISco); this takes awhile!\n",
    "if not check_tfmodisco_motif_subcluster(tfm_obj):\n",
    "    compute_tfmodisco_motif_subclusters(tfm_obj)"
   ]
  },
  {
   "cell_type": "markdown",
   "metadata": {},
   "source": [
    "### Import motif hits\n",
    "For each motif, determine the peaks that contain it"
   ]
  },
  {
   "cell_type": "code",
   "execution_count": null,
   "metadata": {},
   "outputs": [],
   "source": [
    "# Import the hCWMs\n",
    "hcwms = import_tfmodisco_motifs(tfm_results_path)\n",
    "motif_keys = list(hcwms.keys())"
   ]
  },
  {
   "cell_type": "code",
   "execution_count": null,
   "metadata": {},
   "outputs": [],
   "source": [
    "# Import the motif hits\n",
    "hit_table = moods.import_moods_hits(os.path.join(moods_dir, \"moods_filtered_collapsed_scored_thresholded.bed\"))"
   ]
  },
  {
   "cell_type": "code",
   "execution_count": null,
   "metadata": {},
   "outputs": [],
   "source": [
    "hit_peak_indices = get_hit_peak_indices(hit_table, motif_keys)\n",
    "\n",
    "if cluster_cache_dir:\n",
    "    # Save hit embedding indices\n",
    "    with h5py.File(os.path.join(cluster_cache_dir, \"motif_to_embedding_inds.h5\"), \"w\") as f:\n",
    "        for motif_key, emb_inds in hit_peak_indices.items():\n",
    "            f.create_dataset(motif_key, data=emb_inds, compression=\"gzip\")"
   ]
  },
  {
   "cell_type": "markdown",
   "metadata": {},
   "source": [
    "<a id=\"motif-subclusters\"></a>\n",
    "### Within-motif heterogeneity\n",
    "For each motif, show the subclusters that exist within the TF-MoDISco-identified subpatterns"
   ]
  },
  {
   "cell_type": "code",
   "execution_count": null,
   "metadata": {
    "scrolled": true
   },
   "outputs": [],
   "source": [
    "plot_motif_heterogeneity(tfm_obj, cluster_cache_dir)"
   ]
  },
  {
   "cell_type": "markdown",
   "metadata": {},
   "source": [
    "<a id=\"peaks\"></a>\n",
    "### Peak clustering\n",
    "For each peak, cluster the peaks by embeddings to highlight the structure of different peaks and different motifs"
   ]
  },
  {
   "cell_type": "code",
   "execution_count": null,
   "metadata": {},
   "outputs": [],
   "source": [
    "plot_peak_clustering(embeddings_path, motif_keys, hcwms, hit_peak_indices, cluster_cache_dir)"
   ]
  }
 ],
 "metadata": {
  "kernelspec": {
   "display_name": "Python 3",
   "language": "python",
   "name": "python3"
  },
  "language_info": {
   "codemirror_mode": {
    "name": "ipython",
    "version": 3
   },
   "file_extension": ".py",
   "mimetype": "text/x-python",
   "name": "python",
   "nbconvert_exporter": "python",
   "pygments_lexer": "ipython3",
   "version": "3.7.7"
  }
 },
 "nbformat": 4,
 "nbformat_minor": 4
}
