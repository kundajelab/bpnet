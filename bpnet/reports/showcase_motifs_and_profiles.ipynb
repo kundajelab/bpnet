{
 "cells": [
  {
   "cell_type": "markdown",
   "metadata": {},
   "source": [
    "### Link to results\n",
    "[Results](#results)"
   ]
  },
  {
   "cell_type": "code",
   "execution_count": null,
   "metadata": {},
   "outputs": [],
   "source": [
    "import os\n",
    "import util\n",
    "import viz_sequence\n",
    "import numpy as np\n",
    "import pandas as pd\n",
    "import matplotlib.pyplot as plt\n",
    "import matplotlib.font_manager as font_manager\n",
    "import vdom.helpers as vdomh\n",
    "from IPython.display import display\n",
    "import tqdm\n",
    "tqdm.tqdm_notebook()"
   ]
  },
  {
   "cell_type": "code",
   "execution_count": null,
   "metadata": {},
   "outputs": [],
   "source": [
    "# Plotting defaults\n",
    "plot_params = {\n",
    "    \"figure.titlesize\": 22,\n",
    "    \"axes.titlesize\": 22,\n",
    "    \"axes.labelsize\": 20,\n",
    "    \"legend.fontsize\": 18,\n",
    "    \"xtick.labelsize\": 16,\n",
    "    \"ytick.labelsize\": 16,\n",
    "    \"font.weight\": \"bold\"\n",
    "}\n",
    "plt.rcParams.update(plot_params)"
   ]
  },
  {
   "cell_type": "markdown",
   "metadata": {},
   "source": [
    "### Define constants and paths"
   ]
  },
  {
   "cell_type": "code",
   "execution_count": null,
   "metadata": {},
   "outputs": [],
   "source": [
    "# Define parameters/fetch arguments\n",
    "preds_path = os.environ[\"TFM_PRED_PATH\"]\n",
    "shap_scores_path = os.environ[\"TFM_SHAP_PATH\"]\n",
    "tfm_results_path = os.environ[\"TFM_TFM_PATH\"]\n",
    "\n",
    "print(\"Predictions path: %s\" % preds_path)\n",
    "print(\"DeepSHAP scores path: %s\" % shap_scores_path)\n",
    "print(\"TF-MoDISco results path: %s\" % tfm_results_path)"
   ]
  },
  {
   "cell_type": "code",
   "execution_count": null,
   "metadata": {},
   "outputs": [],
   "source": [
    "# Define constants\n",
    "input_length, profile_length = 2114, 1000\n",
    "shap_score_center_size = 400\n",
    "hyp_score_key = \"hyp_scores\"\n",
    "task_index = None"
   ]
  },
  {
   "cell_type": "markdown",
   "metadata": {},
   "source": [
    "### Helper functions\n",
    "For plotting and organizing things"
   ]
  },
  {
   "cell_type": "code",
   "execution_count": null,
   "metadata": {},
   "outputs": [],
   "source": [
    "def plot_profiles(profs, title=None, return_fig=False):\n",
    "    \"\"\"\n",
    "    Plots the given profiles as a signal track.\n",
    "    It should be a T x O x 2 NumPy array, where the subarrays are the\n",
    "    tracks for the plus and minus strand, for each task. No normalization is\n",
    "    performed prior to plotting.\n",
    "    \"\"\"\n",
    "    assert len(profs.shape) == 3\n",
    "    num_tasks, prof_length, _ = profs.shape\n",
    "    fig, ax = plt.subplots(num_tasks, figsize=(20, num_tasks * 3 * 2))\n",
    "    if num_tasks == 1:\n",
    "        ax = [ax]\n",
    "    for i in range(num_tasks):\n",
    "        ax[i].plot(profs[i,:,0], color=\"royalblue\")\n",
    "        ax[i].plot(-profs[i,:,1], color=\"goldenrod\")\n",
    "    if title:\n",
    "        fig.suptitle(title)\n",
    "    if return_fig:\n",
    "        return fig\n",
    "    plt.show()"
   ]
  },
  {
   "cell_type": "markdown",
   "metadata": {},
   "source": [
    "## Import SHAP scores, profile predictions, and TF-MoDISco results"
   ]
  },
  {
   "cell_type": "code",
   "execution_count": null,
   "metadata": {},
   "outputs": [],
   "source": [
    "# Import SHAP coordinates and one-hot sequences\n",
    "hyp_scores, _, one_hot_seqs, shap_coords = util.import_shap_scores(shap_scores_path, hyp_score_key, center_cut_size=shap_score_center_size, remove_non_acgt=False)\n",
    "# This cuts the sequences/scores off just as how TF-MoDISco saw them, but the coordinates are uncut"
   ]
  },
  {
   "cell_type": "code",
   "execution_count": null,
   "metadata": {},
   "outputs": [],
   "source": [
    "# Import long version of SHAP coordinates and one-hot sequences\n",
    "hyp_scores_long, _, one_hot_seqs_long, shap_coords_long = util.import_shap_scores(shap_scores_path, hyp_score_key, center_cut_size=None, remove_non_acgt=False)\n",
    "# This cuts the sequences/scores off just as how TF-MoDISco saw them, but the coordinates are uncut"
   ]
  },
  {
   "cell_type": "code",
   "execution_count": null,
   "metadata": {},
   "outputs": [],
   "source": [
    "# Subset the long SHAP data to the SHAP data that was used to run TF-MoDISco\n",
    "shap_coords_table = pd.DataFrame(shap_coords, columns=[\"chrom\", \"start\", \"end\"])\n",
    "shap_coords_long_table = pd.DataFrame(shap_coords_long, columns=[\"chrom\", \"start\", \"end\"])\n",
    "\n",
    "subset_inds = shap_coords_long_table.reset_index().drop_duplicates([\"chrom\", \"start\", \"end\"]).merge(\n",
    "    shap_coords_table.reset_index(), on=[\"chrom\", \"start\", \"end\"]\n",
    ").sort_values(\"index_y\")[\"index_x\"].values\n",
    "\n",
    "hyp_scores_long = hyp_scores_long[subset_inds]\n",
    "one_hot_seqs_long = one_hot_seqs_long[subset_inds]\n",
    "shap_coords_long = shap_coords_long[subset_inds]\n",
    "\n",
    "# Make sure the coordinates all match\n",
    "assert np.all(shap_coords_long == shap_coords)"
   ]
  },
  {
   "cell_type": "code",
   "execution_count": null,
   "metadata": {},
   "outputs": [],
   "source": [
    "# Import the set of all profiles and their coordinates\n",
    "true_profs, pred_profs, all_pred_coords = util.import_profiles(preds_path)"
   ]
  },
  {
   "cell_type": "code",
   "execution_count": null,
   "metadata": {},
   "outputs": [],
   "source": [
    "# Subset the predicted profiles/coordinates to the task-specific SHAP coordinates/scores\n",
    "pred_coords_table = pd.DataFrame(all_pred_coords, columns=[\"chrom\", \"start\", \"end\"])\n",
    "\n",
    "subset_inds = pred_coords_table.reset_index().drop_duplicates([\"chrom\", \"start\", \"end\"]).merge(\n",
    "    shap_coords_table.reset_index(), on=[\"chrom\", \"start\", \"end\"]\n",
    ").sort_values(\"index_y\")[\"index_x\"].values\n",
    "\n",
    "true_profs = true_profs[subset_inds]\n",
    "pred_profs = pred_profs[subset_inds]\n",
    "pred_coords = all_pred_coords[subset_inds]\n",
    "\n",
    "# Make sure the coordinates all match\n",
    "assert np.all(pred_coords == shap_coords)"
   ]
  },
  {
   "cell_type": "code",
   "execution_count": null,
   "metadata": {},
   "outputs": [],
   "source": [
    "# Import the TF-MoDISco results object\n",
    "tfm_obj = util.import_tfmodisco_results(tfm_results_path, hyp_scores, one_hot_seqs, shap_score_center_size)"
   ]
  },
  {
   "cell_type": "markdown",
   "metadata": {},
   "source": [
    "<a id=\"results\"></a>\n",
    "### Show motifs and profiles\n",
    "For each motif, show:\n",
    "\n",
    "1. The motif\n",
    "2. Examples of the underlying seqlet\n",
    "3. The observed/predicted profiles of that underlying seqlet"
   ]
  },
  {
   "cell_type": "code",
   "execution_count": null,
   "metadata": {
    "scrolled": false
   },
   "outputs": [],
   "source": [
    "num_seqlets_to_show = 3\n",
    "sizes_to_show = [1000, 400]\n",
    "\n",
    "metaclusters = tfm_obj.metacluster_idx_to_submetacluster_results\n",
    "num_metaclusters = len(metaclusters.keys())\n",
    "for metacluster_i, metacluster_key in enumerate(metaclusters.keys()):\n",
    "    metacluster = metaclusters[metacluster_key]\n",
    "    display(vdomh.h3(\"Metacluster %d/%d\" % (metacluster_i + 1, num_metaclusters)))\n",
    "    patterns = metacluster.seqlets_to_patterns_result.patterns\n",
    "    if not patterns:\n",
    "        break\n",
    "    num_patterns = len(patterns)\n",
    "    for pattern_i, pattern in enumerate(patterns):\n",
    "        seqlets = pattern.seqlets\n",
    "        display(vdomh.h4(\"Pattern %d/%d\" % (pattern_i + 1, num_patterns)))\n",
    "        display(vdomh.p(\"%d seqlets\" % len(seqlets)))\n",
    "        \n",
    "        pfm = pattern[\"sequence\"].fwd\n",
    "        hcwm = pattern[\"task0_hypothetical_contribs\"].fwd\n",
    "        cwm = pattern[\"task0_contrib_scores\"].fwd\n",
    "        \n",
    "        # Trim motif based on information content\n",
    "        trimmed_hcwm = util.trim_motif(pfm, hcwm, pad=4)\n",
    "        \n",
    "        viz_sequence.plot_weights(trimmed_hcwm, figsize=(20, 4), subticks_frequency=(len(trimmed_hcwm) + 1))\n",
    "        \n",
    "        # Pick some random seqlets to show\n",
    "        for seqlet_i in np.random.choice(len(seqlets), size=num_seqlets_to_show, replace=False):\n",
    "            seqlet = seqlets[seqlet_i]\n",
    "            coord_index = seqlet.coor.example_idx\n",
    "            seqlet_start = seqlet.coor.start\n",
    "            seqlet_end = seqlet.coor.end\n",
    "            seqlet_rc = seqlet.coor.is_revcomp\n",
    "            \n",
    "            hyp = hyp_scores_long[coord_index]\n",
    "            seq = one_hot_seqs_long[coord_index]\n",
    "            seqlet_seq = one_hot_seqs[coord_index, seqlet_start:seqlet_end]\n",
    "            seqlet_hyp = hyp_scores[coord_index, seqlet_start:seqlet_end]\n",
    "            \n",
    "            true_prof = true_profs[coord_index]\n",
    "            pred_prof = pred_profs[coord_index]\n",
    "            true_prof_fig = plot_profiles(true_prof, return_fig=True)\n",
    "            pred_prof_fig = plot_profiles(pred_prof, return_fig=True)\n",
    "            true_prof_fig.tight_layout()\n",
    "            pred_prof_fig.tight_layout()\n",
    "            \n",
    "            table_rows = [\n",
    "              vdomh.tr(\n",
    "                    vdomh.td(\"Observed profiles\"),\n",
    "                    vdomh.td(util.figure_to_vdom_image(true_prof_fig))\n",
    "                ),\n",
    "                vdomh.tr(\n",
    "                    vdomh.td(\"Predicted profiles\"),\n",
    "                    vdomh.td(util.figure_to_vdom_image(pred_prof_fig))\n",
    "                )  \n",
    "            ]\n",
    "            \n",
    "            for size in sizes_to_show:\n",
    "                start = (input_length // 2) - (size // 2)\n",
    "                end = start + size\n",
    "                fig = viz_sequence.plot_weights(hyp[start:end] * seq[start:end], subticks_frequency=(size + 1), return_fig=True)\n",
    "                fig.tight_layout()\n",
    "                table_rows.append(\n",
    "                    vdomh.tr(\n",
    "                        vdomh.td(\"Importance scores (%d bp)\" % size),\n",
    "                        vdomh.td(util.figure_to_vdom_image(fig))\n",
    "                    )\n",
    "                )\n",
    "            fig = viz_sequence.plot_weights(seqlet_hyp * seqlet_seq, subticks_frequency=(len(seqlet_hyp) + 1), return_fig=True)\n",
    "            fig.tight_layout()\n",
    "            table_rows.append(\n",
    "                vdomh.tr(\n",
    "                    vdomh.td(\"Seqlet\"),\n",
    "                    vdomh.td(util.figure_to_vdom_image(fig))\n",
    "                )\n",
    "            )\n",
    "            table = vdomh.table(*table_rows)\n",
    "            display(table)\n",
    "            plt.close(\"all\")"
   ]
  }
 ],
 "metadata": {
  "kernelspec": {
   "display_name": "Python 3",
   "language": "python",
   "name": "python3"
  },
  "language_info": {
   "codemirror_mode": {
    "name": "ipython",
    "version": 3
   },
   "file_extension": ".py",
   "mimetype": "text/x-python",
   "name": "python",
   "nbconvert_exporter": "python",
   "pygments_lexer": "ipython3",
   "version": "3.7.7"
  }
 },
 "nbformat": 4,
 "nbformat_minor": 4
}
